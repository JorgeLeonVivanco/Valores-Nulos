{
  "cells": [
    {
      "cell_type": "code",
      "execution_count": null,
      "metadata": {
        "id": "diVlU4kfdF2F"
      },
      "outputs": [],
      "source": [
        "import pandas as pd\n",
        "import numpy as np\n",
        "import matplotlib.pyplot as plt\n",
        "import seaborn as sns"
      ]
    },
    {
      "cell_type": "code",
      "execution_count": null,
      "metadata": {
        "id": "wvk4MGDbdSOe"
      },
      "outputs": [],
      "source": [
        "# Cargar el archivo CSV\n",
        "csv_path = \"Ventas_totales.csv\"  # Asegurar que esté en el mismo directorio de ejecución\n",
        "df = pd.read_csv(csv_path)"
      ]
    },
    {
      "cell_type": "code",
      "execution_count": null,
      "metadata": {
        "colab": {
          "base_uri": "https://localhost:8080/"
        },
        "id": "mCYn9xYNZShM",
        "outputId": "198f0635-7b55-4003-a9a3-3cf872d1e4ce"
      },
      "outputs": [
        {
          "name": "stdout",
          "output_type": "stream",
          "text": [
            "Valores nulos por columna antes del tratamiento:\n",
            "salon_ventas                            6\n",
            "tarjetas_debito                         1\n",
            "tarjetas_credito                        7\n",
            "otros_medios                            1\n",
            "subtotal_ventas_alimentos_bebidas      10\n",
            "bebidas                                 1\n",
            "almacen                                 2\n",
            "panaderia                               1\n",
            "lacteos                                 1\n",
            "carnes                                  1\n",
            "verduleria_fruteria                     1\n",
            "alimentos_preparados_rotiseria          1\n",
            "indumentaria_calzado_textiles_hogar     2\n",
            "electronicos_articulos_hogar            3\n",
            "otros                                   4\n",
            "dtype: int64\n"
          ]
        }
      ],
      "source": [
        "# Identificar valores nulos\n",
        "valores_nulos_por_columna = df.isnull().sum()\n",
        "print(\"Valores nulos por columna antes del tratamiento:\")\n",
        "print(valores_nulos_por_columna[valores_nulos_por_columna > 0])"
      ]
    },
    {
      "cell_type": "code",
      "execution_count": null,
      "metadata": {
        "id": "nPWO4c3ra2Ld"
      },
      "outputs": [],
      "source": [
        "# Crear una copia del DataFrame para aplicar las transformaciones\n",
        "df_limpio = df.copy()"
      ]
    },
    {
      "cell_type": "code",
      "execution_count": null,
      "metadata": {
        "colab": {
          "base_uri": "https://localhost:8080/"
        },
        "id": "ZXitR96da4Ty",
        "outputId": "da5f0c86-0c18-4d19-ea9b-6cb5c3443e20"
      },
      "outputs": [
        {
          "name": "stdout",
          "output_type": "stream",
          "text": [
            "Método 1 aplicado: Sustitución con media\n"
          ]
        }
      ],
      "source": [
        "# Método 1: Sustitución de valores nulos con la media\n",
        "df_limpio[\"salon_ventas\"] = df_limpio[\"salon_ventas\"].fillna(df[\"salon_ventas\"].mean())\n",
        "df_limpio[\"subtotal_ventas_alimentos_bebidas\"] = df_limpio[\"subtotal_ventas_alimentos_bebidas\"].fillna(df[\"subtotal_ventas_alimentos_bebidas\"].mean())\n",
        "print(\"Método 1 aplicado: Sustitución con media\")"
      ]
    },
    {
      "cell_type": "code",
      "execution_count": null,
      "metadata": {
        "colab": {
          "base_uri": "https://localhost:8080/"
        },
        "id": "hmuPWumHbhHK",
        "outputId": "7e338a5a-3d5e-44fe-be84-94ec6b1ce346"
      },
      "outputs": [
        {
          "name": "stdout",
          "output_type": "stream",
          "text": [
            "Método 2 aplicado: Sustitución con mediana\n"
          ]
        }
      ],
      "source": [
        "# Método 2: Sustitución de valores nulos con la mediana\n",
        "df_limpio[\"tarjetas_debito\"] = df_limpio[\"tarjetas_debito\"].fillna(df[\"tarjetas_debito\"].median())\n",
        "df_limpio[\"tarjetas_credito\"] = df_limpio[\"tarjetas_credito\"].fillna(df[\"tarjetas_credito\"].median())\n",
        "df_limpio[\"bebidas\"] = df_limpio[\"bebidas\"].fillna(df[\"bebidas\"].median())\n",
        "df_limpio[\"almacen\"] = df_limpio[\"almacen\"].fillna(df[\"almacen\"].median())\n",
        "df_limpio[\"panaderia\"] = df_limpio[\"panaderia\"].fillna(df[\"panaderia\"].median())\n",
        "df_limpio[\"lacteos\"] = df_limpio[\"lacteos\"].fillna(df[\"lacteos\"].median())\n",
        "df_limpio[\"carnes\"] = df_limpio[\"carnes\"].fillna(df[\"carnes\"].median())\n",
        "df_limpio[\"verduleria_fruteria\"] = df_limpio[\"verduleria_fruteria\"].fillna(df[\"verduleria_fruteria\"].median())\n",
        "df_limpio[\"alimentos_preparados_rotiseria\"] = df_limpio[\"alimentos_preparados_rotiseria\"].fillna(df[\"alimentos_preparados_rotiseria\"].median())\n",
        "df_limpio[\"indumentaria_calzado_textiles_hogar\"] = df_limpio[\"indumentaria_calzado_textiles_hogar\"].fillna(df[\"indumentaria_calzado_textiles_hogar\"].median())\n",
        "df_limpio[\"electronicos_articulos_hogar\"] = df_limpio[\"electronicos_articulos_hogar\"].fillna(df[\"electronicos_articulos_hogar\"].median())\n",
        "print(\"Método 2 aplicado: Sustitución con mediana\")"
      ]
    },
    {
      "cell_type": "code",
      "execution_count": null,
      "metadata": {
        "colab": {
          "base_uri": "https://localhost:8080/"
        },
        "id": "TE37gcnHbjiN",
        "outputId": "2342395e-c8aa-463b-dde4-064157db6340"
      },
      "outputs": [
        {
          "name": "stdout",
          "output_type": "stream",
          "text": [
            "Método 3 aplicado: Sustitución con valor específico\n"
          ]
        }
      ],
      "source": [
        "# Método 3: Sustitución de valores nulos con un valor específico\n",
        "df_limpio[\"otros_medios\"] = df_limpio[\"otros_medios\"].fillna(0)\n",
        "df_limpio[\"otros\"] = df_limpio[\"otros\"].fillna(0)\n",
        "print(\"Método 3 aplicado: Sustitución con valor específico\")"
      ]
    },
    {
      "cell_type": "code",
      "execution_count": null,
      "metadata": {
        "colab": {
          "base_uri": "https://localhost:8080/"
        },
        "id": "fEwJTH4fblyA",
        "outputId": "0e930826-f4fd-4c21-cd02-d8d9f43138d1"
      },
      "outputs": [
        {
          "name": "stdout",
          "output_type": "stream",
          "text": [
            "Valores nulos por columna después del tratamiento:\n",
            "indice_tiempo                          0\n",
            "ventas_precios_corrientes              0\n",
            "ventas_precios_constantes              0\n",
            "ventas_totales_canal_venta             0\n",
            "salon_ventas                           0\n",
            "canales_on_line                        0\n",
            "ventas_totales_medio_pago              0\n",
            "efectivo                               0\n",
            "tarjetas_debito                        0\n",
            "tarjetas_credito                       0\n",
            "otros_medios                           0\n",
            "ventas_totales_grupo_articulos         0\n",
            "subtotal_ventas_alimentos_bebidas      0\n",
            "bebidas                                0\n",
            "almacen                                0\n",
            "panaderia                              0\n",
            "lacteos                                0\n",
            "carnes                                 0\n",
            "verduleria_fruteria                    0\n",
            "alimentos_preparados_rotiseria         0\n",
            "articulos_limpieza_perfumeria          0\n",
            "indumentaria_calzado_textiles_hogar    0\n",
            "electronicos_articulos_hogar           0\n",
            "otros                                  0\n",
            "dtype: int64\n",
            "Total de valores nulos después del tratamiento: 0\n"
          ]
        }
      ],
      "source": [
        "# Verificar que no haya valores nulos después de la limpieza\n",
        "valores_nulos_post = df_limpio.isnull().sum()\n",
        "print(\"Valores nulos por columna después del tratamiento:\")\n",
        "print(valores_nulos_post)\n",
        "print(\"Total de valores nulos después del tratamiento:\", valores_nulos_post.sum())"
      ]
    },
    {
      "cell_type": "code",
      "execution_count": null,
      "metadata": {
        "id": "16NTgcHpMT6f"
      },
      "outputs": [],
      "source": [
        "# Guardar el DataFrame limpio en un nuevo archivo CSV\n",
        "csv_limpio_path = \"Ventas_totales_limpio.csv\"\n",
        "df_limpio.to_csv(csv_limpio_path, index=False)\n",
        "\n",
        "print(\"Archivo limpio:\", csv_limpio_path)\n"
      ]
    }
  ],
  "metadata": {
    "colab": {
      "provenance": []
    },
    "kernelspec": {
      "display_name": "Python 3",
      "name": "python3"
    },
    "language_info": {
      "name": "python"
    }
  },
  "nbformat": 4,
  "nbformat_minor": 0
}
